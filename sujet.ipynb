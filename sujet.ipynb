{
 "cells": [
  {
   "cell_type": "markdown",
   "metadata": {},
   "source": [
    "# Test Python 01 - BACH TECH 24 - le 18/11/2024\n",
    "\n",
    "Nom / prénom : _"
   ]
  },
  {
   "cell_type": "markdown",
   "metadata": {},
   "source": [
    "## Exercice 1: Recherche dichotomique intéractive\n",
    "\n",
    "Transposez l'algorithme suivant en Python:\n",
    "\n",
    "```\n",
    "VARIABLES\n",
    "    secret EST_DU_TYPE NOMBRE\n",
    "    proposition EST_DU_TYPE NOMBRE\n",
    "DEBUT_ALGORITHME\n",
    "    //Tirage aléatoire du nombre à rechercher\n",
    "    secret PREND_LA_VALEUR ALGOBOX_ALEA_ENT(1, 20)\n",
    "    AFFICHER \"Secret: \"\n",
    "    AFFICHER secret\n",
    "    //Recherche du nombre secret\n",
    "    proposition PREND_LA_VALEUR 0\n",
    "    TANT_QUE (proposition != secret) FAIRE\n",
    "        DEBUT_TANT_QUE\n",
    "        LIRE proposition\n",
    "        SI (proposition == secret) ALORS\n",
    "            DEBUT_SI\n",
    "            AFFICHER \"Vous avez trouvé\"\n",
    "            FIN_SI\n",
    "        SI (proposition < secret) ALORS\n",
    "            DEBUT_SI\n",
    "            AFFICHER \"Plus grand\"\n",
    "            FIN_SI\n",
    "        SI (proposition > secret) ALORS\n",
    "            DEBUT_SI\n",
    "            AFFICHER \"Plus petit\"\n",
    "            FIN_SI\n",
    "    FIN_TANT_QUE\n",
    "FIN_ALGORITHME\n",
    "```\n",
    "\n",
    "Vous obtiendrez l'affichage ci-dessous:\n",
    "```\n",
    "Secret: 12\n",
    "proposition: 15\n",
    "Plus petit\n",
    "proposition: 12\n",
    "Vous avez trouvé\n",
    "```\n",
    "\n",
    "Pour obtenir un nombre aléatoire vous utiliserez la fonction ci-dessous:"
   ]
  },
  {
   "cell_type": "code",
   "execution_count": 3,
   "metadata": {},
   "outputs": [
    {
     "name": "stdout",
     "output_type": "stream",
     "text": [
      "Aléatoire: 7\n"
     ]
    }
   ],
   "source": [
    "import random\n",
    "\n",
    "aleatoire = random.randint(0, 20)\n",
    "print(\"Aléatoire:\", aleatoire)\n"
   ]
  },
  {
   "cell_type": "code",
   "execution_count": 1,
   "metadata": {},
   "outputs": [],
   "source": [
    "# Code de l'exercice 1"
   ]
  },
  {
   "cell_type": "markdown",
   "metadata": {},
   "source": [
    "## Exercice 2: Recherche dichotomique automatique\n",
    "\n",
    "Vous disposez du code d'un jeu dans lequel un joueur humain doit deviner un nombre secret choisi aléatoirement entre 1 et 20 (exercice 1). À chaque essai, le programme indique si le nombre à deviner est plus grand ou plus petit que la proposition de l'utilisateur.\n",
    "\n",
    "### Objectif :\n",
    "\n",
    "Modifiez cet algorithme pour que ce soit la machine, et non plus l’utilisateur, qui effectue les propositions automatiquement en utilisant la méthode dichotomique.\n",
    "\n",
    "### Méthode dichotomique :\n",
    "\n",
    "La méthode dichotomique consiste à diviser en deux l'intervalle de recherche pour chaque essai. Au départ, on commence avec l'intervalle `[1, 20]`. Si la proposition est trop petite, on réduit l’intervalle en prenant la moitié supérieure ; si elle est trop grande, on réduit l’intervalle en prenant la moitié inférieure. En répétant ce processus, la machine arrive au nombre secret en un nombre minimal d'essais.\n",
    "\n",
    "### Consignes :\n",
    "\n",
    "- Adaptez le code pour que la machine utilise cette méthode pour trouver automatiquement le nombre secret.\n",
    "- Utilisez les variables `intervalle_mini` et `intervalle_maxi` pour représenter les limites actuelles de l'intervalle de recherche.\n",
    "  \n",
    "### Exemple d'exécution attendue :\n",
    "Le programme affiche chaque proposition faite par la machine et s’arrête dès que le nombre secret est trouvé en indiquant \"Vous avez trouvé :)\".\n",
    "\n",
    "```\n",
    "secret: 17\n",
    "proposition: 10\n",
    "Plus grand\n",
    "proposition: 15\n",
    "Plus grand\n",
    "proposition: 18\n",
    "Plus petit\n",
    "proposition: 16\n",
    "Plus grand\n",
    "proposition: 17\n",
    "Vous avez trouvé :)\n",
    "```"
   ]
  },
  {
   "cell_type": "code",
   "execution_count": null,
   "metadata": {},
   "outputs": [],
   "source": [
    "# Code source exercice 2\n",
    "\n"
   ]
  },
  {
   "cell_type": "markdown",
   "metadata": {},
   "source": [
    "## Exercice 3 - Table de multiplication\n",
    "\n",
    "Ecrire le programme qui affiche la table de multiplication sous la forme ci-dessous:\n",
    "\n",
    "```\n",
    "    1  2  3  4  5  6  7  8  9\n",
    "-----------------------------\n",
    "1|  1  2  3  4  5  6  7  8  9\n",
    "2|  2  4  6  8 10 12 14 16 18\n",
    "3|  3  6  9 12 15 18 21 24 27\n",
    "4|  4  8 12 16 20 24 28 32 36\n",
    "5|  5 10 15 20 25 30 35 40 45\n",
    "6|  6 12 18 24 30 36 42 48 54\n",
    "7|  7 14 21 28 35 42 49 56 63\n",
    "8|  8 16 24 32 40 48 56 64 72\n",
    "9|  9 18 27 36 45 54 63 72 81\n",
    "```\n"
   ]
  },
  {
   "cell_type": "code",
   "execution_count": 2,
   "metadata": {},
   "outputs": [],
   "source": [
    "# Code source exercice 3\n",
    "# Tables de multiplication\n",
    "\n"
   ]
  }
 ],
 "metadata": {
  "kernelspec": {
   "display_name": "Python 3",
   "language": "python",
   "name": "python3"
  },
  "language_info": {
   "codemirror_mode": {
    "name": "ipython",
    "version": 3
   },
   "file_extension": ".py",
   "mimetype": "text/x-python",
   "name": "python",
   "nbconvert_exporter": "python",
   "pygments_lexer": "ipython3",
   "version": "3.8.10"
  }
 },
 "nbformat": 4,
 "nbformat_minor": 2
}
